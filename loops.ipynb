{
 "cells": [
  {
   "cell_type": "code",
   "execution_count": 9,
   "metadata": {},
   "outputs": [
    {
     "name": "stdout",
     "output_type": "stream",
     "text": [
      "total apps=15\n"
     ]
    }
   ],
   "source": [
    "apps=['playstore','bgmi','whatsapp','airtel','gallery',\n",
    "      'themes','getapp','cleaner','phonepe','classroom',\n",
    "      'myntra','instagram','hotsar','paytm','flipkart']\n",
    "print(f'total apps={len(apps)}')"
   ]
  },
  {
   "cell_type": "code",
   "execution_count": 10,
   "metadata": {},
   "outputs": [
    {
     "name": "stdout",
     "output_type": "stream",
     "text": [
      "playstore\n",
      "bgmi\n",
      "whatsapp\n",
      "airtel\n",
      "gallery\n",
      "themes\n",
      "getapp\n",
      "cleaner\n",
      "phonepe\n",
      "classroom\n",
      "myntra\n",
      "instagram\n",
      "hotsar\n",
      "paytm\n",
      "flipkart\n"
     ]
    }
   ],
   "source": [
    "for app in apps:\n",
    "    print(app)"
   ]
  },
  {
   "cell_type": "code",
   "execution_count": 15,
   "metadata": {},
   "outputs": [
    {
     "name": "stdout",
     "output_type": "stream",
     "text": [
      "playstore |9\n",
      "bgmi      |4\n",
      "whatsapp  |8\n",
      "airtel    |6\n",
      "gallery   |7\n",
      "themes    |6\n",
      "getapp    |6\n",
      "cleaner   |7\n",
      "phonepe   |7\n",
      "classroom |9\n",
      "myntra    |6\n",
      "instagram |9\n",
      "hotsar    |6\n",
      "paytm     |5\n",
      "flipkart  |8\n"
     ]
    }
   ],
   "source": [
    "for application in apps:\n",
    "    print(f\"{application:10}|{len(application)}\")"
   ]
  },
  {
   "cell_type": "code",
   "execution_count": 18,
   "metadata": {},
   "outputs": [
    {
     "name": "stdout",
     "output_type": "stream",
     "text": [
      "cleaner\n",
      "phonepe\n",
      "myntra\n",
      "instagram\n"
     ]
    }
   ],
   "source": [
    "for application in apps:\n",
    "    if 'n' in application:\n",
    "        print(application)"
   ]
  },
  {
   "cell_type": "code",
   "execution_count": 19,
   "metadata": {},
   "outputs": [
    {
     "name": "stdout",
     "output_type": "stream",
     "text": [
      "airtel\n"
     ]
    }
   ],
   "source": [
    "for application in apps:\n",
    "    if application.startswith('a'):\n",
    "        print(application)"
   ]
  },
  {
   "cell_type": "code",
   "execution_count": 22,
   "metadata": {},
   "outputs": [
    {
     "name": "stdout",
     "output_type": "stream",
     "text": [
      "classroom\n",
      "instagram\n",
      "paytm\n"
     ]
    }
   ],
   "source": [
    "for application in apps:\n",
    "    if application.endswith('m'):\n",
    "        print(application)"
   ]
  },
  {
   "cell_type": "code",
   "execution_count": 25,
   "metadata": {},
   "outputs": [
    {
     "name": "stdout",
     "output_type": "stream",
     "text": [
      "12\n",
      "56\n"
     ]
    }
   ],
   "source": [
    "data=[12,56,0,67,0,32,6,0,68,0,1,3]\n",
    "for i in data:\n",
    "    if i==0:\n",
    "        continue\n",
    "    print(i)"
   ]
  },
  {
   "cell_type": "code",
   "execution_count": 26,
   "metadata": {},
   "outputs": [
    {
     "name": "stdout",
     "output_type": "stream",
     "text": [
      "12\n",
      "56\n"
     ]
    }
   ],
   "source": [
    "data=[12,56,0,67,0,32,6,0,68,0,1,3]\n",
    "for i in data:\n",
    "    if i==0:\n",
    "        break\n",
    "    print(i)"
   ]
  },
  {
   "cell_type": "code",
   "execution_count": 27,
   "metadata": {},
   "outputs": [
    {
     "name": "stdout",
     "output_type": "stream",
     "text": [
      "12\n",
      "56\n",
      "0\n"
     ]
    }
   ],
   "source": [
    "data=[12,56,0,67,0,32,6,0,68,0,1,3]\n",
    "for i in data:\n",
    "    print(i)\n",
    "    if i==0:\n",
    "        break\n",
    "   "
   ]
  },
  {
   "cell_type": "code",
   "execution_count": 30,
   "metadata": {},
   "outputs": [
    {
     "name": "stdout",
     "output_type": "stream",
     "text": [
      "0 playstore\n",
      "1 bgmi\n",
      "2 whatsapp\n",
      "3 airtel\n",
      "4 gallery\n",
      "5 themes\n",
      "6 getapp\n",
      "7 cleaner\n",
      "8 phonepe\n",
      "9 classroom\n",
      "10 myntra\n"
     ]
    }
   ],
   "source": [
    "for i,application in enumerate(apps):\n",
    "    if i>10:\n",
    "        break\n",
    "    print(i,application)"
   ]
  },
  {
   "cell_type": "code",
   "execution_count": 31,
   "metadata": {},
   "outputs": [
    {
     "name": "stdout",
     "output_type": "stream",
     "text": [
      "0 playstore\n",
      "3 airtel\n",
      "4 gallery\n",
      "5 themes\n",
      "6 getapp\n",
      "7 cleaner\n",
      "8 phonepe\n"
     ]
    }
   ],
   "source": [
    "for i,application in enumerate(apps):\n",
    "    if 'e' in application:\n",
    "         print(i,application)"
   ]
  },
  {
   "cell_type": "code",
   "execution_count": null,
   "metadata": {},
   "outputs": [],
   "source": []
  }
 ],
 "metadata": {
  "kernelspec": {
   "display_name": "base",
   "language": "python",
   "name": "python3"
  },
  "language_info": {
   "codemirror_mode": {
    "name": "ipython",
    "version": 3
   },
   "file_extension": ".py",
   "mimetype": "text/x-python",
   "name": "python",
   "nbconvert_exporter": "python",
   "pygments_lexer": "ipython3",
   "version": "3.10.8"
  },
  "orig_nbformat": 4,
  "vscode": {
   "interpreter": {
    "hash": "6dd24ebf17e3bd85ddee6608f13c4b2efd5fde446cc977a0d054d999d91c7d36"
   }
  }
 },
 "nbformat": 4,
 "nbformat_minor": 2
}

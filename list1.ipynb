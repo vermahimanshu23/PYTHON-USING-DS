{
 "cells": [
  {
   "cell_type": "code",
   "execution_count": 1,
   "metadata": {},
   "outputs": [],
   "source": [
    "x=[]# blank list\n",
    "x2 = [1,2,3]\n",
    "x3 =[12,45,'apple','orange']# list with 4 element\n",
    "x4 = ['Aman','vijay','ritik']"
   ]
  },
  {
   "cell_type": "code",
   "execution_count": 2,
   "metadata": {},
   "outputs": [
    {
     "name": "stdout",
     "output_type": "stream",
     "text": [
      "[]\n",
      "[1, 2, 3]\n",
      "[12, 45, 'apple', 'orange']\n",
      "['Aman', 'vijay', 'ritik']\n"
     ]
    }
   ],
   "source": [
    "print(x)\n",
    "print(x2)\n",
    "print(x3)\n",
    "print(x4)"
   ]
  },
  {
   "cell_type": "code",
   "execution_count": 3,
   "metadata": {},
   "outputs": [
    {
     "data": {
      "text/plain": [
       "[1, 1, 1, 1, 1]"
      ]
     },
     "execution_count": 3,
     "metadata": {},
     "output_type": "execute_result"
    }
   ],
   "source": [
    "y =[1]\n",
    "y*5"
   ]
  },
  {
   "cell_type": "code",
   "execution_count": 5,
   "metadata": {},
   "outputs": [
    {
     "name": "stdout",
     "output_type": "stream",
     "text": [
      "[1, 2, 3, 1, 2, 3, 1, 2, 3, 1, 2, 3, 1, 2, 3]\n"
     ]
    }
   ],
   "source": [
    "x5=x2*5\n",
    "print(x5)"
   ]
  },
  {
   "cell_type": "code",
   "execution_count": 6,
   "metadata": {},
   "outputs": [
    {
     "data": {
      "text/plain": [
       "['Aman', 'vijay', 'ritik', 1, 2, 3, 1, 2, 3, 1, 2, 3, 1, 2, 3, 1, 2, 3]"
      ]
     },
     "execution_count": 6,
     "metadata": {},
     "output_type": "execute_result"
    }
   ],
   "source": [
    "x4+x5 # concatenation"
   ]
  },
  {
   "cell_type": "code",
   "execution_count": 7,
   "metadata": {},
   "outputs": [],
   "source": [
    "best_movie =[ 'The Shawshank Redemption','The Godfather','The Dark Knight ','The Godfather Part II,''12 Angry Men', 'Schindler']\n",
    "worst_movie =['RRR','diljale','ek villian','circus','kabir singh']"
   ]
  },
  {
   "cell_type": "code",
   "execution_count": 8,
   "metadata": {},
   "outputs": [
    {
     "name": "stdout",
     "output_type": "stream",
     "text": [
      "['The Shawshank Redemption', 'The Godfather', 'The Dark Knight ', 'The Godfather Part II,12 Angry Men', 'Schindler', 'RRR', 'diljale', 'ek villian', 'circus', 'kabir singh']\n"
     ]
    }
   ],
   "source": [
    "all_movies=best_movie+worst_movie\n",
    "print(all_movies)"
   ]
  },
  {
   "cell_type": "code",
   "execution_count": 9,
   "metadata": {},
   "outputs": [],
   "source": [
    "all_movies.append('thor')\n",
    "all_movies.append('13 ghost')"
   ]
  },
  {
   "cell_type": "code",
   "execution_count": 10,
   "metadata": {},
   "outputs": [
    {
     "name": "stdout",
     "output_type": "stream",
     "text": [
      "['The Shawshank Redemption', 'The Godfather', 'The Dark Knight ', 'The Godfather Part II,12 Angry Men', 'Schindler', 'RRR', 'diljale', 'ek villian', 'circus', 'kabir singh', 'thor', '13 ghost']\n"
     ]
    }
   ],
   "source": [
    "print(all_movies)"
   ]
  },
  {
   "cell_type": "code",
   "execution_count": 11,
   "metadata": {},
   "outputs": [],
   "source": [
    "all_movies.insert(2,'avenger end game ')"
   ]
  },
  {
   "cell_type": "code",
   "execution_count": 12,
   "metadata": {},
   "outputs": [
    {
     "name": "stdout",
     "output_type": "stream",
     "text": [
      "['The Shawshank Redemption', 'The Godfather', 'avenger end game ', 'The Dark Knight ', 'The Godfather Part II,12 Angry Men', 'Schindler', 'RRR', 'diljale', 'ek villian', 'circus', 'kabir singh', 'thor', '13 ghost']\n"
     ]
    }
   ],
   "source": [
    "print(all_movies)"
   ]
  },
  {
   "cell_type": "code",
   "execution_count": 13,
   "metadata": {},
   "outputs": [
    {
     "name": "stdout",
     "output_type": "stream",
     "text": [
      "['The Shawshank Redemption', 'The Godfather', 'avenger end game ', 'The Dark Knight ', 'The Godfather Part II,12 Angry Men', 'Schindler', 'RRR', 'diljale', 'ek villian', 'circus', 'kabir singh', 'thor', '13 ghost', 'fast & furious', '2 fast 2 furious', 'fast and furious:tokyo dirft']\n"
     ]
    }
   ],
   "source": [
    "sequels =['fast & furious','2 fast 2 furious','fast and furious:tokyo dirft']\n",
    "all_movies.extend(sequels)\n",
    "print(all_movies)"
   ]
  },
  {
   "cell_type": "code",
   "execution_count": 14,
   "metadata": {},
   "outputs": [
    {
     "data": {
      "text/plain": [
       "16"
      ]
     },
     "execution_count": 14,
     "metadata": {},
     "output_type": "execute_result"
    }
   ],
   "source": [
    "len(all_movies)"
   ]
  },
  {
   "cell_type": "code",
   "execution_count": 15,
   "metadata": {},
   "outputs": [
    {
     "data": {
      "text/plain": [
       "['The Shawshank Redemption',\n",
       " 'The Godfather',\n",
       " 'avenger end game ',\n",
       " 'The Dark Knight ',\n",
       " 'The Godfather Part II,12 Angry Men']"
      ]
     },
     "execution_count": 15,
     "metadata": {},
     "output_type": "execute_result"
    }
   ],
   "source": [
    "all_movies[:5]"
   ]
  },
  {
   "cell_type": "code",
   "execution_count": 17,
   "metadata": {},
   "outputs": [
    {
     "data": {
      "text/plain": [
       "['thor',\n",
       " '13 ghost',\n",
       " 'fast & furious',\n",
       " '2 fast 2 furious',\n",
       " 'fast and furious:tokyo dirft']"
      ]
     },
     "execution_count": 17,
     "metadata": {},
     "output_type": "execute_result"
    }
   ],
   "source": [
    "all_movies[-5:]"
   ]
  },
  {
   "cell_type": "code",
   "execution_count": 20,
   "metadata": {},
   "outputs": [
    {
     "name": "stdout",
     "output_type": "stream",
     "text": [
      "['fast and furious:tokyo dirft', '2 fast 2 furious', 'fast & furious', '13 ghost', 'thor', 'kabir singh', 'circus', 'ek villian', 'diljale', 'RRR', 'Schindler', 'The Godfather Part II,12 Angry Men', 'The Dark Knight ', 'avenger end game ', 'The Godfather', 'The Shawshank Redemption']\n"
     ]
    }
   ],
   "source": [
    "all_movies.reverse()\n",
    "print(all_movies)"
   ]
  },
  {
   "cell_type": "code",
   "execution_count": 21,
   "metadata": {},
   "outputs": [
    {
     "data": {
      "text/plain": [
       "['The Shawshank Redemption',\n",
       " 'The Godfather',\n",
       " 'avenger end game ',\n",
       " 'The Dark Knight ',\n",
       " 'The Godfather Part II,12 Angry Men',\n",
       " 'Schindler',\n",
       " 'RRR',\n",
       " 'diljale',\n",
       " 'ek villian',\n",
       " 'circus',\n",
       " 'kabir singh',\n",
       " 'thor',\n",
       " '13 ghost',\n",
       " 'fast & furious',\n",
       " '2 fast 2 furious',\n",
       " 'fast and furious:tokyo dirft']"
      ]
     },
     "execution_count": 21,
     "metadata": {},
     "output_type": "execute_result"
    }
   ],
   "source": [
    "all_movies[::-1]"
   ]
  },
  {
   "cell_type": "code",
   "execution_count": 22,
   "metadata": {},
   "outputs": [
    {
     "name": "stdout",
     "output_type": "stream",
     "text": [
      "['13 ghost', '2 fast 2 furious', 'RRR', 'Schindler', 'The Dark Knight ', 'The Godfather', 'The Godfather Part II,12 Angry Men', 'The Shawshank Redemption', 'avenger end game ', 'circus', 'diljale', 'ek villian', 'fast & furious', 'fast and furious:tokyo dirft', 'kabir singh', 'thor']\n"
     ]
    }
   ],
   "source": [
    "all_movies.sort()\n",
    "print(all_movies)"
   ]
  },
  {
   "cell_type": "code",
   "execution_count": 23,
   "metadata": {},
   "outputs": [
    {
     "name": "stdout",
     "output_type": "stream",
     "text": [
      "['thor', 'kabir singh', 'fast and furious:tokyo dirft', 'fast & furious', 'ek villian', 'diljale', 'circus', 'avenger end game ', 'The Shawshank Redemption', 'The Godfather Part II,12 Angry Men', 'The Godfather', 'The Dark Knight ', 'Schindler', 'RRR', '2 fast 2 furious', '13 ghost']\n"
     ]
    }
   ],
   "source": [
    "all_movies.sort(reverse=True)\n",
    "print(all_movies)"
   ]
  },
  {
   "cell_type": "code",
   "execution_count": 24,
   "metadata": {},
   "outputs": [],
   "source": [
    "import random as rnd"
   ]
  },
  {
   "cell_type": "code",
   "execution_count": 25,
   "metadata": {},
   "outputs": [
    {
     "name": "stdout",
     "output_type": "stream",
     "text": [
      "['thor', '2 fast 2 furious', 'fast and furious:tokyo dirft', 'The Godfather', 'circus', 'avenger end game ', 'ek villian', 'The Shawshank Redemption', 'diljale', 'RRR', 'Schindler', 'kabir singh', '13 ghost', 'fast & furious', 'The Dark Knight ', 'The Godfather Part II,12 Angry Men']\n"
     ]
    }
   ],
   "source": [
    "rnd.shuffle(all_movies)\n",
    "print(all_movies)"
   ]
  },
  {
   "cell_type": "code",
   "execution_count": 26,
   "metadata": {},
   "outputs": [
    {
     "data": {
      "text/plain": [
       "'fast & furious'"
      ]
     },
     "execution_count": 26,
     "metadata": {},
     "output_type": "execute_result"
    }
   ],
   "source": [
    "rnd.choice(all_movies)"
   ]
  },
  {
   "cell_type": "code",
   "execution_count": 29,
   "metadata": {},
   "outputs": [
    {
     "data": {
      "text/plain": [
       "['fast & furious',\n",
       " 'ek villian',\n",
       " 'fast and furious:tokyo dirft',\n",
       " 'The Dark Knight ',\n",
       " 'circus',\n",
       " 'kabir singh',\n",
       " 'The Dark Knight ',\n",
       " 'The Godfather Part II,12 Angry Men',\n",
       " 'fast & furious',\n",
       " 'thor',\n",
       " 'Schindler',\n",
       " 'The Godfather']"
      ]
     },
     "execution_count": 29,
     "metadata": {},
     "output_type": "execute_result"
    }
   ],
   "source": [
    "rnd.choices(all_movies, k=12)"
   ]
  },
  {
   "cell_type": "code",
   "execution_count": 32,
   "metadata": {},
   "outputs": [
    {
     "data": {
      "text/plain": [
       "4"
      ]
     },
     "execution_count": 32,
     "metadata": {},
     "output_type": "execute_result"
    }
   ],
   "source": [
    "all_movies.index('circus')"
   ]
  },
  {
   "cell_type": "code",
   "execution_count": 33,
   "metadata": {},
   "outputs": [
    {
     "data": {
      "text/plain": [
       "'The Godfather Part II,12 Angry Men'"
      ]
     },
     "execution_count": 33,
     "metadata": {},
     "output_type": "execute_result"
    }
   ],
   "source": [
    "all_movies.pop()"
   ]
  },
  {
   "cell_type": "code",
   "execution_count": 34,
   "metadata": {},
   "outputs": [
    {
     "data": {
      "text/plain": [
       "'The Godfather'"
      ]
     },
     "execution_count": 34,
     "metadata": {},
     "output_type": "execute_result"
    }
   ],
   "source": [
    "all_movies.pop(3)"
   ]
  },
  {
   "cell_type": "code",
   "execution_count": 35,
   "metadata": {},
   "outputs": [
    {
     "name": "stdout",
     "output_type": "stream",
     "text": [
      "['thor', '2 fast 2 furious', 'fast and furious:tokyo dirft', 'circus', 'avenger end game ', 'ek villian', 'The Shawshank Redemption', 'diljale', 'RRR', 'Schindler', 'kabir singh', '13 ghost', 'fast & furious', 'The Dark Knight ']\n"
     ]
    }
   ],
   "source": [
    "print(all_movies)"
   ]
  },
  {
   "cell_type": "code",
   "execution_count": 37,
   "metadata": {},
   "outputs": [
    {
     "name": "stdout",
     "output_type": "stream",
     "text": [
      "[100, 2, 200, 4, 5]\n",
      "[100, 2, 200, 4, 5]\n",
      "True\n"
     ]
    }
   ],
   "source": [
    "x=[1,2,3,4,5]\n",
    "y=x\n",
    "y[0]=100\n",
    "x[2]=200\n",
    "print(x)\n",
    "print(y)\n",
    "print(x is y )"
   ]
  },
  {
   "cell_type": "code",
   "execution_count": 40,
   "metadata": {},
   "outputs": [
    {
     "name": "stdout",
     "output_type": "stream",
     "text": [
      "[100, 2, 200, 4, 5, 5, 5, 5]\n",
      "[100, 2, 200, 4, 5, 5, 5, 5]\n",
      "[100, 2, 200, 4, 5, 5, 5, 10]\n",
      "False\n"
     ]
    }
   ],
   "source": [
    "z = x.copy()\n",
    "z.append(10)\n",
    "x.append(5)\n",
    "print(x)\n",
    "print(y)\n",
    "print(z)\n",
    "print(x is z)"
   ]
  },
  {
   "cell_type": "code",
   "execution_count": null,
   "metadata": {},
   "outputs": [],
   "source": []
  }
 ],
 "metadata": {
  "kernelspec": {
   "display_name": "base",
   "language": "python",
   "name": "python3"
  },
  "language_info": {
   "codemirror_mode": {
    "name": "ipython",
    "version": 3
   },
   "file_extension": ".py",
   "mimetype": "text/x-python",
   "name": "python",
   "nbconvert_exporter": "python",
   "pygments_lexer": "ipython3",
   "version": "3.10.8"
  },
  "orig_nbformat": 4,
  "vscode": {
   "interpreter": {
    "hash": "6dd24ebf17e3bd85ddee6608f13c4b2efd5fde446cc977a0d054d999d91c7d36"
   }
  }
 },
 "nbformat": 4,
 "nbformat_minor": 2
}

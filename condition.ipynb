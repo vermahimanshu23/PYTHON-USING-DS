{
 "cells": [
  {
   "cell_type": "code",
   "execution_count": 1,
   "metadata": {},
   "outputs": [
    {
     "name": "stdout",
     "output_type": "stream",
     "text": [
      "good job👍\n"
     ]
    }
   ],
   "source": [
    "x=input(\"enter the number :\")\n",
    "if x.isnumeric():\n",
    "    print(\"good job👍\")\n",
    "else:\n",
    "    print(\"sad life\")"
   ]
  },
  {
   "cell_type": "code",
   "execution_count": 1,
   "metadata": {},
   "outputs": [
    {
     "name": "stdout",
     "output_type": "stream",
     "text": [
      "please wait6 years\n"
     ]
    }
   ],
   "source": [
    "age = int(input(\"enter the number \"))\n",
    "if age >=18:\n",
    "    print(\"you have the right to vote\")\n",
    "else:\n",
    "    print(f\"please wait{18-age} years\")"
   ]
  },
  {
   "cell_type": "code",
   "execution_count": 3,
   "metadata": {},
   "outputs": [
    {
     "name": "stdout",
     "output_type": "stream",
     "text": [
      "we have100kg mango in store\n",
      "total costing about Rs.2000\n"
     ]
    }
   ],
   "source": [
    "x=100\n",
    "y=\"mango\"\n",
    "prc=20\n",
    "print(f\"we have{x}kg {y} in store\")\n",
    "print(f\"total costing about Rs.{x*prc}\")"
   ]
  },
  {
   "cell_type": "code",
   "execution_count": 2,
   "metadata": {},
   "outputs": [
    {
     "name": "stdout",
     "output_type": "stream",
     "text": [
      "n=20 is natural number \n",
      "n=20is even number \n"
     ]
    }
   ],
   "source": [
    "n=int(input(\"enter a number \"))\n",
    "if n>0:\n",
    "    print(f\"{n=} is natural number \")\n",
    "\n",
    "if n%2 ==0:\n",
    "    print(f\"{n=}is even number \")\n",
    "\n",
    "if n>50:\n",
    "    print(f\"{n=} is greater than 50\")"
   ]
  },
  {
   "cell_type": "code",
   "execution_count": 13,
   "metadata": {},
   "outputs": [
    {
     "name": "stdout",
     "output_type": "stream",
     "text": [
      "the total salary is : 60000.0\n"
     ]
    }
   ],
   "source": [
    "post=str(input(\"enter the post\"))\n",
    "\n",
    "\n",
    "if post=='manger':\n",
    "    bsM=50000\n",
    "    bsMb=bsM*0.1\n",
    "    bsMh=bsM*0.2\n",
    "    print(\"the total salary is :\",bsM+bsMb+bsMh)\n",
    "\n",
    "if post=='developer':\n",
    "    bsd=40000\n",
    "    bsdb=bsM*0.2\n",
    "    bsdh=bsM*0.2\n",
    "    print(\"the total salary is :\",bsd+bsdb+bsdh)\n",
    "\n",
    "\n",
    "if post=='tester':\n",
    "    bsd=40000\n",
    "    bsdb=bsM*0.2\n",
    "    bsdh=bsM*0.2 \n",
    "    print(\"the total salary is :\",bsd+bsdb+bsdh)\n",
    "    \n",
    "\n"
   ]
  },
  {
   "cell_type": "code",
   "execution_count": 3,
   "metadata": {},
   "outputs": [
    {
     "name": "stdout",
     "output_type": "stream",
     "text": [
      "apple are 100/kg\n"
     ]
    }
   ],
   "source": [
    "fruit =input(\"enter a fruit  name :\")\n",
    "match fruit :\n",
    "    case\"apple\":\n",
    "        print (\"apple are 100/kg\")\n",
    "    case\"mango\":\n",
    "        print (\"mango are 50/kg\")\n",
    "    case\"pomegranate\":\n",
    "        print (\"pomegranate are 150/kg\")\n",
    "    case _:\n",
    "        print (f\"{fruit} is not available\")\n",
    "        \n",
    "        \n",
    "        \n"
   ]
  },
  {
   "cell_type": "code",
   "execution_count": 3,
   "metadata": {},
   "outputs": [
    {
     "name": "stdout",
     "output_type": "stream",
     "text": [
      "91 is greater \n"
     ]
    }
   ],
   "source": [
    "x=input(\"enter the first number :\")\n",
    "y=input(\"enter the second number :\")\n",
    "z=input(\"enter the third number :\")\n",
    "if (x>y) and (x>z):\n",
    "    print(f\"{x} is greater \")\n",
    "elif(y>z) and (y>x):\n",
    "    print(f\"{y} is greater \")\n",
    "else :\n",
    "    print(f\"{z} is greater \")\n",
    "    \n",
    "    \n"
   ]
  },
  {
   "cell_type": "code",
   "execution_count": null,
   "metadata": {},
   "outputs": [],
   "source": []
  }
 ],
 "metadata": {
  "kernelspec": {
   "display_name": "base",
   "language": "python",
   "name": "python3"
  },
  "language_info": {
   "codemirror_mode": {
    "name": "ipython",
    "version": 3
   },
   "file_extension": ".py",
   "mimetype": "text/x-python",
   "name": "python",
   "nbconvert_exporter": "python",
   "pygments_lexer": "ipython3",
   "version": "3.10.8"
  },
  "orig_nbformat": 4,
  "vscode": {
   "interpreter": {
    "hash": "6dd24ebf17e3bd85ddee6608f13c4b2efd5fde446cc977a0d054d999d91c7d36"
   }
  }
 },
 "nbformat": 4,
 "nbformat_minor": 2
}

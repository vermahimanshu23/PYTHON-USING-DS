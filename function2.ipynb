{
 "cells": [
  {
   "cell_type": "code",
   "execution_count": 22,
   "metadata": {},
   "outputs": [],
   "source": [
    "# parameter\n",
    "#      -named parameter \n",
    "#      -required parameter\n",
    "#      -default parameter\n",
    "#      -variable parameter\n",
    "#      -variable keyword argument parameter\n",
    "def burger(bread,cheese,veg,price):\n",
    "    return f'your burger has {bread} bread, {cheese} cheese,is veg {veg} and Rs{price}'"
   ]
  },
  {
   "cell_type": "code",
   "execution_count": 23,
   "metadata": {},
   "outputs": [
    {
     "data": {
      "text/plain": [
       "'your burger has wheat bread, cheddar cheese,is veg True and Rs100'"
      ]
     },
     "execution_count": 23,
     "metadata": {},
     "output_type": "execute_result"
    }
   ],
   "source": [
    "burger('wheat','cheddar',True,100)"
   ]
  },
  {
   "cell_type": "code",
   "execution_count": 7,
   "metadata": {},
   "outputs": [
    {
     "data": {
      "text/plain": [
       "'your burger has wheatbread,parmesancheese,is vegTrueand Rs200'"
      ]
     },
     "execution_count": 7,
     "metadata": {},
     "output_type": "execute_result"
    }
   ],
   "source": [
    "burger(bread='wheat',cheese='parmesan',veg=True,price=200)"
   ]
  },
  {
   "cell_type": "code",
   "execution_count": 8,
   "metadata": {},
   "outputs": [],
   "source": [
    "def total(x,y,z):\n",
    "    return x+y+z*0.05"
   ]
  },
  {
   "cell_type": "code",
   "execution_count": 9,
   "metadata": {},
   "outputs": [
    {
     "name": "stdout",
     "output_type": "stream",
     "text": [
      "5.1\n",
      "4.15\n"
     ]
    }
   ],
   "source": [
    "ans=total(x=2,y=3,z=2)\n",
    "print(ans)\n",
    "ans=total(y=2,z=3,x=2)\n",
    "print(ans)\n",
    "\n"
   ]
  },
  {
   "cell_type": "code",
   "execution_count": 11,
   "metadata": {},
   "outputs": [],
   "source": [
    "def total_v2(x,y,z=10):\n",
    "    return x+y+z*0.05"
   ]
  },
  {
   "cell_type": "code",
   "execution_count": 12,
   "metadata": {},
   "outputs": [
    {
     "data": {
      "text/plain": [
       "13.5"
      ]
     },
     "execution_count": 12,
     "metadata": {},
     "output_type": "execute_result"
    }
   ],
   "source": [
    "total_v2(3,10)"
   ]
  },
  {
   "cell_type": "code",
   "execution_count": 13,
   "metadata": {},
   "outputs": [
    {
     "data": {
      "text/plain": [
       "14.0"
      ]
     },
     "execution_count": 13,
     "metadata": {},
     "output_type": "execute_result"
    }
   ],
   "source": [
    "total_v2(3,10,20)"
   ]
  },
  {
   "cell_type": "code",
   "execution_count": 14,
   "metadata": {},
   "outputs": [],
   "source": [
    "def area(l=1,b=1):\n",
    "    return l*b"
   ]
  },
  {
   "cell_type": "code",
   "execution_count": 15,
   "metadata": {},
   "outputs": [
    {
     "name": "stdout",
     "output_type": "stream",
     "text": [
      "1\n",
      "10\n",
      "200\n"
     ]
    }
   ],
   "source": [
    "print(area())\n",
    "print(area(10))\n",
    "print(area(10,20))\n"
   ]
  },
  {
   "cell_type": "code",
   "execution_count": 20,
   "metadata": {},
   "outputs": [],
   "source": [
    "def greeting(name='guest'):\n",
    "    print('💕'*5)\n",
    "    print(f'welcome {name}')\n",
    "    print('💕'*5)"
   ]
  },
  {
   "cell_type": "code",
   "execution_count": 17,
   "metadata": {},
   "outputs": [
    {
     "name": "stdout",
     "output_type": "stream",
     "text": [
      "💕💕💕💕💕\n",
      "welcomeguest\n",
      "💕💕💕💕💕\n"
     ]
    }
   ],
   "source": [
    "greeting()"
   ]
  },
  {
   "cell_type": "code",
   "execution_count": 21,
   "metadata": {},
   "outputs": [
    {
     "name": "stdout",
     "output_type": "stream",
     "text": [
      "💕💕💕💕💕\n",
      "welcome himanshu\n",
      "💕💕💕💕💕\n"
     ]
    }
   ],
   "source": [
    "greeting('himanshu')"
   ]
  },
  {
   "attachments": {},
   "cell_type": "markdown",
   "metadata": {},
   "source": [
    "variable argument function"
   ]
  },
  {
   "cell_type": "code",
   "execution_count": 26,
   "metadata": {},
   "outputs": [],
   "source": [
    "def average(*data):\n",
    "    if len(data)>1:\n",
    "     return sum(data)/len(data)"
   ]
  },
  {
   "cell_type": "code",
   "execution_count": 28,
   "metadata": {},
   "outputs": [
    {
     "name": "stdout",
     "output_type": "stream",
     "text": [
      "4.285714285714286\n",
      "5.5\n",
      "None\n"
     ]
    }
   ],
   "source": [
    "print(average(1,4,5,5,6,6,3))\n",
    "print(average(1,2,3,4,5,6,7,8,9,10))\n",
    "print(average())"
   ]
  },
  {
   "cell_type": "code",
   "execution_count": 31,
   "metadata": {},
   "outputs": [],
   "source": [
    "def menu(**product):\n",
    "    for k,v in product.items():\n",
    "        print(f'👍{k:15}|rs.{v:5}')"
   ]
  },
  {
   "cell_type": "code",
   "execution_count": 30,
   "metadata": {},
   "outputs": [
    {
     "name": "stdout",
     "output_type": "stream",
     "text": [
      "👍chat           |rs. 100\n",
      "👍dosa           |rs. 150\n",
      "👍vada           |rs.  50\n",
      "👍samosa         |rs.  40\n",
      "👍pani_puri      |rs.  30\n",
      "👍chicken        |rs. 350\n"
     ]
    }
   ],
   "source": [
    "menu(chat=100, dosa=150,vada=50,samosa=40,pani_puri=30,chicken=350)"
   ]
  },
  {
   "cell_type": "code",
   "execution_count": 32,
   "metadata": {},
   "outputs": [
    {
     "name": "stdout",
     "output_type": "stream",
     "text": [
      "👍coffee         |rs.  100\n",
      "👍chai           |rs.   50\n",
      "👍mochi          |rs.   24\n"
     ]
    }
   ],
   "source": [
    "#ccd\n",
    "menu(coffee=100,chai=50,mochi=24)"
   ]
  },
  {
   "cell_type": "code",
   "execution_count": null,
   "metadata": {},
   "outputs": [],
   "source": []
  }
 ],
 "metadata": {
  "kernelspec": {
   "display_name": "base",
   "language": "python",
   "name": "python3"
  },
  "language_info": {
   "codemirror_mode": {
    "name": "ipython",
    "version": 3
   },
   "file_extension": ".py",
   "mimetype": "text/x-python",
   "name": "python",
   "nbconvert_exporter": "python",
   "pygments_lexer": "ipython3",
   "version": "3.10.8"
  },
  "orig_nbformat": 4,
  "vscode": {
   "interpreter": {
    "hash": "6dd24ebf17e3bd85ddee6608f13c4b2efd5fde446cc977a0d054d999d91c7d36"
   }
  }
 },
 "nbformat": 4,
 "nbformat_minor": 2
}
